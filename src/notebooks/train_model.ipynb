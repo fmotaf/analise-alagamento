{
 "cells": [
  {
   "cell_type": "markdown",
   "id": "69674e10",
   "metadata": {},
   "source": [
    "# Treinamento do Modelo de Previsão de Alagamentos\n",
    "Usando RandomForestClassifier com base no valor HAND"
   ]
  },
  {
   "cell_type": "code",
   "execution_count": null,
   "id": "91f7602e",
   "metadata": {},
   "outputs": [],
   "source": [
    "import pandas as pd\n",
    "from sklearn.model_selection import train_test_split\n",
    "from sklearn.ensemble import RandomForestClassifier\n",
    "from sklearn.metrics import classification_report\n",
    "import joblib"
   ]
  },
  {
   "cell_type": "code",
   "execution_count": null,
   "id": "0c19779a",
   "metadata": {},
   "outputs": [],
   "source": [
    "# Carrega os dados de HAND e define a variável alvo\n",
    "df = pd.read_csv(\"flood_features.csv\")\n",
    "df[\"flooded\"] = (df[\"hand\"] < 1.5).astype(int)\n",
    "df.head()"
   ]
  },
  {
   "cell_type": "code",
   "execution_count": null,
   "id": "4173ba44",
   "metadata": {},
   "outputs": [],
   "source": [
    "# Separa em features (X) e target (y)\n",
    "X = df[[\"hand\"]]\n",
    "y = df[\"flooded\"]"
   ]
  },
  {
   "cell_type": "code",
   "execution_count": null,
   "id": "286ea21a",
   "metadata": {},
   "outputs": [],
   "source": [
    "# Divide em treino e teste\n",
    "X_train, X_test, y_train, y_test = train_test_split(X, y, test_size=0.2, random_state=42)"
   ]
  },
  {
   "cell_type": "code",
   "execution_count": null,
   "id": "d27028f6",
   "metadata": {},
   "outputs": [],
   "source": [
    "# Treina o modelo\n",
    "model = RandomForestClassifier(n_estimators=100, random_state=42)\n",
    "model.fit(X_train, y_train)"
   ]
  },
  {
   "cell_type": "code",
   "execution_count": null,
   "id": "d5dfe55e",
   "metadata": {},
   "outputs": [],
   "source": [
    "# Avaliação\n",
    "y_pred = model.predict(X_test)\n",
    "print(classification_report(y_test, y_pred))"
   ]
  },
  {
   "cell_type": "code",
   "execution_count": null,
   "id": "ccb57e72",
   "metadata": {},
   "outputs": [],
   "source": [
    "# Salva o modelo treinado\n",
    "joblib.dump(model, \"model_flood_rf.pkl\")"
   ]
  }
 ],
 "metadata": {},
 "nbformat": 4,
 "nbformat_minor": 5
}
