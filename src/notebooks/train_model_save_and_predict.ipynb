{
 "cells": [
  {
   "cell_type": "markdown",
   "id": "14a4f9d6",
   "metadata": {},
   "source": [
    "## Train"
   ]
  },
  {
   "cell_type": "code",
   "execution_count": 3,
   "id": "91d9c8db",
   "metadata": {},
   "outputs": [
    {
     "name": "stdout",
     "output_type": "stream",
     "text": [
      "✅ Classification Report:\n",
      "               precision    recall  f1-score   support\n",
      "\n",
      "           0       0.97      1.00      0.99     13394\n",
      "           1       1.00      0.94      0.97      6010\n",
      "\n",
      "    accuracy                           0.98     19404\n",
      "   macro avg       0.99      0.97      0.98     19404\n",
      "weighted avg       0.98      0.98      0.98     19404\n",
      "\n",
      "🧩 Confusion Matrix:\n",
      " [[13394     0]\n",
      " [  360  5650]]\n",
      "💾 Saved model to flood_model.pkl\n"
     ]
    }
   ],
   "source": [
    "import pandas as pd\n",
    "import numpy as np\n",
    "import joblib\n",
    "from calendar import monthrange\n",
    "from sklearn.ensemble import RandomForestClassifier\n",
    "from sklearn.metrics import classification_report, confusion_matrix\n",
    "\n",
    "# === Load Data ===\n",
    "df = pd.read_csv(\"flood_features_3.csv\")\n",
    "df = df.replace(-999, pd.NA).dropna()\n",
    "\n",
    "# Extract year and month from 'date' column\n",
    "if 'date' in df.columns:\n",
    "    df['year'] = df['date'].astype(str).str[:4].astype(int)\n",
    "    df['month'] = df['date'].astype(str).str[4:6].astype(int)\n",
    "\n",
    "# Remove rows with invalid months (e.g., 13)\n",
    "df = df[(df['month'] >= 1) & (df['month'] <= 12)]\n",
    "\n",
    "# === Calculate estimated monthly total precipitation\n",
    "# (now 'year' and 'month' columns exist)\n",
    "df[\"days_in_month\"] = df.apply(lambda row: monthrange(int(row[\"year\"]), int(row[\"month\"]))[1], axis=1)\n",
    "df[\"PRECTOTCORR_SUM\"] = df[\"PRECTOTCORR\"] * df[\"days_in_month\"]\n",
    "\n",
    "# === Label as flood if monthly precip exceeds 100mm (adjust if needed)\n",
    "df[\"flood\"] = df[\"PRECTOTCORR_SUM\"].apply(lambda x: 1 if x > 100 else 0)\n",
    "\n",
    "# === Feature Columns ===\n",
    "features = [\"PRECTOTCORR\", \"RH2M\", \"QV2M\", \"GWETROOT\", \"GWETPROF\", \"GWETTOP\", \"CLOUD_AMT\"]\n",
    "\n",
    "# === Train/Test Split by Time\n",
    "df[\"is_train\"] = df[\"year\"] <= 2020\n",
    "X_train = df[df[\"is_train\"]][features]\n",
    "y_train = df[df[\"is_train\"]][\"flood\"]\n",
    "X_test = df[~df[\"is_train\"]][features]\n",
    "y_test = df[~df[\"is_train\"]][\"flood\"]\n",
    "\n",
    "# === Train Model\n",
    "model = RandomForestClassifier(n_estimators=100, random_state=42)\n",
    "model.fit(X_train, y_train)\n",
    "\n",
    "# === Evaluate\n",
    "y_pred = model.predict(X_test)\n",
    "print(\"✅ Classification Report:\\n\", classification_report(y_test, y_pred))\n",
    "print(\"🧩 Confusion Matrix:\\n\", confusion_matrix(y_test, y_pred))\n",
    "\n",
    "# === Save the model\n",
    "joblib.dump(model, \"flood_model.pkl\")\n",
    "print(\"💾 Saved model to flood_model.pkl\")\n"
   ]
  },
  {
   "cell_type": "markdown",
   "id": "c5f0ccfb",
   "metadata": {},
   "source": [
    "## Predict"
   ]
  },
  {
   "cell_type": "code",
   "execution_count": 4,
   "id": "8df5ed9b",
   "metadata": {},
   "outputs": [],
   "source": [
    "def predict_flood(lat, lon, year, month, features_file=\"flood_features_3.csv\", model_file=\"flood_model.pkl\"):\n",
    "    import pandas as pd\n",
    "    import joblib\n",
    "\n",
    "    df = pd.read_csv(features_file)\n",
    "    model = joblib.load(model_file)\n",
    "\n",
    "    row = df[\n",
    "        (df[\"lat\"].round(4) == round(lat, 4)) &\n",
    "        (df[\"lon\"].round(4) == round(lon, 4)) &\n",
    "        (df[\"year\"] == year) &\n",
    "        (df[\"month\"] == month)\n",
    "    ]\n",
    "\n",
    "    if row.empty:\n",
    "        print(\"⚠️ No data found for the given point/date.\")\n",
    "        return None\n",
    "\n",
    "    features = [\"PRECTOTCORR\", \"RH2M\", \"QV2M\", \"GWETROOT\", \"GWETPROF\", \"GWETTOP\", \"CLOUD_AMT\"]\n",
    "    X = row[features]\n",
    "    pred = model.predict(X)\n",
    "    return int(pred[0])\n"
   ]
  },
  {
   "cell_type": "markdown",
   "id": "b4d96f6e",
   "metadata": {},
   "source": [
    "## Batch Prediction File"
   ]
  },
  {
   "cell_type": "code",
   "execution_count": 5,
   "id": "73ca1eee",
   "metadata": {},
   "outputs": [
    {
     "name": "stdout",
     "output_type": "stream",
     "text": [
      "📤 Saved flood_predictions.csv\n"
     ]
    }
   ],
   "source": [
    "# Load model\n",
    "model = joblib.load(\"flood_model.pkl\")\n",
    "\n",
    "# Predict for all rows\n",
    "df[\"predicted_flood\"] = model.predict(df[features])\n",
    "df[[\"lat\", \"lon\", \"year\", \"month\", \"predicted_flood\"]].to_csv(\"flood_predictions.csv\", index=False)\n",
    "print(\"📤 Saved flood_predictions.csv\")\n"
   ]
  }
 ],
 "metadata": {
  "kernelspec": {
   "display_name": "analise-alagamento",
   "language": "python",
   "name": "analise-alagamento"
  },
  "language_info": {
   "codemirror_mode": {
    "name": "ipython",
    "version": 3
   },
   "file_extension": ".py",
   "mimetype": "text/x-python",
   "name": "python",
   "nbconvert_exporter": "python",
   "pygments_lexer": "ipython3",
   "version": "3.12.3"
  }
 },
 "nbformat": 4,
 "nbformat_minor": 5
}
