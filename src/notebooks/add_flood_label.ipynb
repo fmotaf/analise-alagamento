{
 "cells": [
  {
   "cell_type": "code",
   "execution_count": 9,
   "id": "58cf73a9",
   "metadata": {},
   "outputs": [
    {
     "name": "stdout",
     "output_type": "stream",
     "text": [
      "✅ Classification Report:\n",
      "               precision    recall  f1-score   support\n",
      "\n",
      "           0       0.93      1.00      0.96       162\n",
      "           1       1.00      0.87      0.93        90\n",
      "\n",
      "    accuracy                           0.95       252\n",
      "   macro avg       0.97      0.93      0.95       252\n",
      "weighted avg       0.96      0.95      0.95       252\n",
      "\n",
      "🧩 Confusion Matrix:\n",
      " [[162   0]\n",
      " [ 12  78]]\n"
     ]
    }
   ],
   "source": [
    "import pandas as pd\n",
    "from calendar import monthrange\n",
    "from sklearn.model_selection import train_test_split\n",
    "from sklearn.ensemble import RandomForestClassifier\n",
    "from sklearn.metrics import classification_report, confusion_matrix\n",
    "\n",
    "# === Load Data ===\n",
    "df = pd.read_csv(\"flood_features.csv\")\n",
    "\n",
    "# === Drop missing / placeholder values ===\n",
    "df = df.replace(-999, pd.NA).dropna()\n",
    "df = df[df[\"month\"].between(1, 12)]\n",
    "\n",
    "\n",
    "# === Estimate monthly total precipitation ===\n",
    "df[\"days_in_month\"] = df.apply(lambda row: monthrange(int(row[\"year\"]), int(row[\"month\"]))[1], axis=1)\n",
    "df[\"PRECTOTCORR_SUM\"] = df[\"PRECTOTCORR\"] * df[\"days_in_month\"]\n",
    "\n",
    "# === Add simulated flood label ===\n",
    "# You can adjust this threshold as needed — 100mm/month is a typical hydrology cutoff\n",
    "df[\"flood\"] = df[\"PRECTOTCORR_SUM\"].apply(lambda x: 1 if x > 100 else 0)\n",
    "\n",
    "# === Features and label ===\n",
    "feature_cols = [\"PRECTOTCORR\", \"RH2M\", \"QV2M\", \"GWETROOT\", \"GWETPROF\", \"GWETTOP\", \"CLOUD_AMT\"]\n",
    "X = df[feature_cols]\n",
    "y = df[\"flood\"]\n",
    "\n",
    "# === Train/test split based on time (train on 2010–2020, test on 2021–2024) ===\n",
    "df[\"is_train\"] = df[\"year\"] <= 2020\n",
    "X_train = X[df[\"is_train\"]]\n",
    "y_train = y[df[\"is_train\"]]\n",
    "X_test = X[~df[\"is_train\"]]\n",
    "y_test = y[~df[\"is_train\"]]\n",
    "\n",
    "# === Train the model ===\n",
    "model = RandomForestClassifier(random_state=42)\n",
    "model.fit(X_train, y_train)\n",
    "\n",
    "# === Evaluate ===\n",
    "y_pred = model.predict(X_test)\n",
    "print(\"✅ Classification Report:\\n\", classification_report(y_test, y_pred))\n",
    "print(\"🧩 Confusion Matrix:\\n\", confusion_matrix(y_test, y_pred))\n"
   ]
  }
 ],
 "metadata": {
  "kernelspec": {
   "display_name": "analise-alagamento",
   "language": "python",
   "name": "analise-alagamento"
  },
  "language_info": {
   "codemirror_mode": {
    "name": "ipython",
    "version": 3
   },
   "file_extension": ".py",
   "mimetype": "text/x-python",
   "name": "python",
   "nbconvert_exporter": "python",
   "pygments_lexer": "ipython3",
   "version": "3.12.3"
  }
 },
 "nbformat": 4,
 "nbformat_minor": 5
}
