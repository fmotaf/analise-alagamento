{
 "cells": [
  {
   "cell_type": "markdown",
   "id": "5d7b650c",
   "metadata": {},
   "source": [
    "# Predição de Áreas Alagadas Usando Modelo Treinado"
   ]
  },
  {
   "cell_type": "code",
   "execution_count": null,
   "id": "97bf518f",
   "metadata": {},
   "outputs": [],
   "source": [
    "import pandas as pd\n",
    "import joblib"
   ]
  },
  {
   "cell_type": "code",
   "execution_count": null,
   "id": "b633124f",
   "metadata": {},
   "outputs": [],
   "source": [
    "# Carrega modelo treinado\n",
    "model = joblib.load(\"model_flood_rf.pkl\")"
   ]
  },
  {
   "cell_type": "code",
   "execution_count": null,
   "id": "39c6e4f1",
   "metadata": {},
   "outputs": [],
   "source": [
    "# Carrega dados (ex: flood_features.csv novamente ou dados novos)\n",
    "df = pd.read_csv(\"flood_features.csv\")"
   ]
  },
  {
   "cell_type": "code",
   "execution_count": null,
   "id": "2ad1105f",
   "metadata": {},
   "outputs": [],
   "source": [
    "# Faz previsões\n",
    "df[\"predicted_flood\"] = model.predict(df[[\"hand\"]])"
   ]
  },
  {
   "cell_type": "code",
   "execution_count": null,
   "id": "eeb92e56",
   "metadata": {},
   "outputs": [],
   "source": [
    "# Salva as previsões\n",
    "df.to_csv(\"flood_predictions.csv\", index=False)\n",
    "df.head()"
   ]
  }
 ],
 "metadata": {},
 "nbformat": 4,
 "nbformat_minor": 5
}
