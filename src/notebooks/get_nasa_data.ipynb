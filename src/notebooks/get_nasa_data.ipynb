{
 "cells": [
  {
   "cell_type": "markdown",
   "id": "020712a5",
   "metadata": {},
   "source": [
    "## Download data from NASA POWER"
   ]
  },
  {
   "cell_type": "code",
   "execution_count": 8,
   "id": "f2297e72",
   "metadata": {},
   "outputs": [
    {
     "name": "stdout",
     "output_type": "stream",
     "text": [
      "[1/6] Fetching lat=-12.3, lon=-39.03...\n",
      "[2/6] Fetching lat=-12.3, lon=-38.98...\n",
      "[3/6] Fetching lat=-12.25, lon=-39.03...\n",
      "[4/6] Fetching lat=-12.25, lon=-38.98...\n",
      "[5/6] Fetching lat=-12.2, lon=-39.03...\n",
      "[6/6] Fetching lat=-12.2, lon=-38.98...\n",
      "✅ Done! CSV saved with shape: (1128, 11)\n"
     ]
    }
   ],
   "source": [
    "import requests\n",
    "import pandas as pd\n",
    "from itertools import product\n",
    "from time import sleep\n",
    "\n",
    "# === Define grid (urban area) ===\n",
    "lat_min, lat_max = -12.3, -12.15\n",
    "lon_min, lon_max = -39.03, -38.95\n",
    "step = 0.05  # around 5-6 points per axis, total ~36 points\n",
    "\n",
    "# === Helper to iterate float ranges ===\n",
    "def frange(start, stop, step):\n",
    "    while start <= stop:\n",
    "        yield start\n",
    "        start += step\n",
    "\n",
    "\n",
    "lats = [round(x, 4) for x in frange(lat_min, lat_max, step)]\n",
    "lons = [round(x, 4) for x in frange(lon_min, lon_max, step)]\n",
    "points = list(product(lats, lons))\n",
    "\n",
    "\n",
    "# === Parameters for monthly request ===\n",
    "base_url = \"https://power.larc.nasa.gov/api/temporal/monthly/point\"\n",
    "params_template = {\n",
    "    \"start\": \"2010\",          # ✅ valid\n",
    "    \"end\": \"2024\",            # ✅ valid\n",
    "    \"community\": \"AG\",\n",
    "    \"format\": \"JSON\",\n",
    "    \"parameters\": \",\".join([\n",
    "        \"PRECTOTCORR\", \"RH2M\", \"QV2M\",\n",
    "        \"GWETROOT\", \"GWETPROF\", \"GWETTOP\", \"CLOUD_AMT\"\n",
    "    ])\n",
    "}\n",
    "\n",
    "# === Collect data for each point ===\n",
    "all_data = []\n",
    "\n",
    "for i, (lat, lon) in enumerate(points):\n",
    "    print(f\"[{i+1}/{len(points)}] Fetching lat={lat}, lon={lon}...\")\n",
    "    params = params_template.copy()\n",
    "    params[\"latitude\"] = lat\n",
    "    params[\"longitude\"] = lon\n",
    "\n",
    "    try:\n",
    "        r = requests.get(base_url, params=params)\n",
    "        r.raise_for_status()\n",
    "        raw = r.json()\n",
    "        time_series = raw[\"properties\"][\"parameter\"]\n",
    "        all_months = list(time_series.values())[0].keys()\n",
    "        for date in all_months:\n",
    "            if \"-999\" in str([time_series[v].get(date) for v in time_series]):\n",
    "                continue\n",
    "            row = {\n",
    "                \"lat\": lat,\n",
    "                \"lon\": lon,\n",
    "                \"year\": int(date[:4]),\n",
    "                \"month\": int(date[4:])\n",
    "            }\n",
    "            for var in time_series:\n",
    "                row[var] = time_series[var][date]\n",
    "            all_data.append(row)\n",
    "        sleep(1)  # avoid rate limiting\n",
    "    except Exception as e:\n",
    "        print(f\"⚠️ Error fetching {lat},{lon}: {e}\")\n",
    "        continue\n",
    "\n",
    "# === Save all data ===\n",
    "df = pd.DataFrame(all_data)\n",
    "df.to_csv(\"flood_features.csv\", index=False)\n",
    "print(\"✅ Done! CSV saved with shape:\", df.shape)\n"
   ]
  }
 ],
 "metadata": {
  "kernelspec": {
   "display_name": "analise-alagamento",
   "language": "python",
   "name": "analise-alagamento"
  },
  "language_info": {
   "codemirror_mode": {
    "name": "ipython",
    "version": 3
   },
   "file_extension": ".py",
   "mimetype": "text/x-python",
   "name": "python",
   "nbconvert_exporter": "python",
   "pygments_lexer": "ipython3",
   "version": "3.12.3"
  }
 },
 "nbformat": 4,
 "nbformat_minor": 5
}
